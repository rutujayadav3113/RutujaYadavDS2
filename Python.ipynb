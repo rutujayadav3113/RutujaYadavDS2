{
  "metadata": {
    "kernelspec": {
      "name": "python",
      "display_name": "Python (Pyodide)",
      "language": "python"
    },
    "language_info": {
      "codemirror_mode": {
        "name": "python",
        "version": 3
      },
      "file_extension": ".py",
      "mimetype": "text/x-python",
      "name": "python",
      "nbconvert_exporter": "python",
      "pygments_lexer": "ipython3",
      "version": "3.8"
    }
  },
  "nbformat_minor": 4,
  "nbformat": 4,
  "cells": [
    {
      "cell_type": "markdown",
      "source": "Python:\n\nTotal Marks: 40\nEach question 10 marks \n\n\nQuestion: 1\n\n\nYou have an input dictionary given,\n\ninput_dict = {\"abc\":{\"def\":{\"ghi\":{\"jkl\":{\"mno\":{\"pqr\":{\"stu\":{\"vwx\":{\"yz\":\"you are finally here !!!\"}}}}}}}}}\n\nTask:  You have to write a Python function that will take this input and print it like that,\n\noutput = {\"abc\":[\"def\",\"ghi\",\"jkl\",\"mno\",\"pqr\",\"stu\",\"vwx\",\"yz\"],\n \"def\":[\"ghi\",\"jkl\",\"mno\",\"pqr\",\"stu\",\"vwx\",\"yz\"],\n \"ghi\":[\"jkl\",\"mno\",\"pqr\",\"stu\",\"vwx\",\"yz\"],\n \"jkl\":[\"mno\",\"pqr\",\"stu\",\"vwx\",\"yz\"],\n \"mno\":[\"pqr\",\"stu\",\"vwx\",\"yz\"],\n \"pqr\":[\"stu\",\"vwx\",\"yz\"],\n \"stu\":[\"vwx\",\"yz\"],\n \"vwx\":[\"yz\"],\n \"yz\":[\"you are finally here !!!\"]}",
      "metadata": {}
    },
    {
      "cell_type": "code",
      "source": "from pprint import pprint\n\ninput_dict = {\"abc\":{\"def\":{\"ghi\":{\"jkl\":{\"mno\":{\"pqr\":{\"stu\":{\"vwx\":{\"yz\":\"you are finally here !!!\"}}}}}}}}}\ndef a_particular_style(data):\n    ret = {}\n    for k, v in data.items():\n        if isinstance(v, dict):\n            d = a_particular_style(v)\n            ret.update(d)\n            ret[k] = list(reversed(d))\n        else:\n            ret[k] = [v]\n    return ret\n\npprint(a_particular_style(input_dict))",
      "metadata": {
        "trusted": true
      },
      "outputs": [
        {
          "name": "stdout",
          "text": "{'abc': ['def', 'ghi', 'jkl', 'mno', 'pqr', 'stu', 'vwx', 'yz'],\n 'def': ['ghi', 'jkl', 'mno', 'pqr', 'stu', 'vwx', 'yz'],\n 'ghi': ['jkl', 'mno', 'pqr', 'stu', 'vwx', 'yz'],\n 'jkl': ['mno', 'pqr', 'stu', 'vwx', 'yz'],\n 'mno': ['pqr', 'stu', 'vwx', 'yz'],\n 'pqr': ['stu', 'vwx', 'yz'],\n 'stu': ['vwx', 'yz'],\n 'vwx': ['yz'],\n 'yz': ['you are finally here !!!']}\n",
          "output_type": "stream"
        }
      ],
      "execution_count": 1
    },
    {
      "cell_type": "code",
      "source": "",
      "metadata": {
        "trusted": true
      },
      "outputs": [],
      "execution_count": null
    }
  ]
}