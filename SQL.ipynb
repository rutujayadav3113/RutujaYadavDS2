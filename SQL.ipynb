{
  "metadata": {
    "kernelspec": {
      "name": "SQLite",
      "display_name": "SQLite",
      "language": "sql"
    },
    "language_info": {
      "codemirror_mode": "sql",
      "file_extension": "",
      "mimetype": "",
      "name": "sql",
      "version": "3.32.3"
    }
  },
  "nbformat_minor": 4,
  "nbformat": 4,
  "cells": [
    {
      "cell_type": "markdown",
      "source": "Question: 1",
      "metadata": {}
    },
    {
      "cell_type": "code",
      "source": "SELECT * FROM runners WHERE id NOT IN (SELECT winner_id FROM races);\nIs something like this (actual values from races):\n\nSELECT * FROM runners WHERE\nid <> 2 and\nid <> 3 and\nid <> null;\nid <> null is unknown by definition, so the whole where clause evaluates to either false (for ids: 2, 3) or unknown (for ids: 1, 4, 5) because of the and operators, thus no result returned.\n\nIf you want to run the query disregarding the nulls in races, you can use:\n\nSELECT * FROM runners \nWHERE id NOT IN \n      (SELECT winner_id FROM races WHERE winner_id IS NOT NULL);",
      "metadata": {
        "trusted": true
      },
      "outputs": [],
      "execution_count": null
    },
    {
      "cell_type": "markdown",
      "source": "Question: 2",
      "metadata": {}
    },
    {
      "cell_type": "code",
      "source": "select * from test_a\nexcept\nselect * from test_b;\n",
      "metadata": {
        "trusted": true
      },
      "outputs": [],
      "execution_count": null
    },
    {
      "cell_type": "code",
      "source": "Select id.* from test_a\nLeft join test_b on (test_a.id = test_b.id) where test_b.id is null",
      "metadata": {
        "trusted": true
      },
      "outputs": [],
      "execution_count": null
    },
    {
      "cell_type": "code",
      "source": "Question: 3",
      "metadata": {
        "trusted": true
      },
      "outputs": [],
      "execution_count": null
    },
    {
      "cell_type": "code",
      "source": "SELECT * FROM runners WHERE id NOT IN (SELECT winner_id FROM races)",
      "metadata": {
        "trusted": true
      },
      "outputs": [],
      "execution_count": null
    },
    {
      "cell_type": "code",
      "source": "SELECT * FROM runners WHERE id NOT IN (SELECT winner_id FROM races WHERE winner_id IS NOT null)",
      "metadata": {
        "trusted": true
      },
      "outputs": [],
      "execution_count": null
    },
    {
      "cell_type": "code",
      "source": "Question:4",
      "metadata": {
        "trusted": true
      },
      "outputs": [],
      "execution_count": null
    },
    {
      "cell_type": "code",
      "source": "INSERT INTO Customer (Emp_ID, Emp_name, Salary, Manager_Id)\nVALUES (10, 'Anil', '50000', '18'),\n       (11, 'Vikas ', '75000', '16'),\n       (12, 'Nisha', '40000', '18'),\n       (13, 'Nidhi', '60000', '17'),\n       (14, 'Priya', '80000', '18'),\n       (15, 'Mohit', '45000', '18'),\n       (16, 'Rajesh', '90000', '-'),\n       (17, 'Reman', '55000', '16'),\n       (18, 'Santosh', '65000', '17');",
      "metadata": {
        "trusted": true
      },
      "outputs": [],
      "execution_count": null
    },
    {
      "cell_type": "code",
      "source": "CREATE TABLE customer AS SELECT * FROM customer LIMIT 3;",
      "metadata": {
        "trusted": true
      },
      "outputs": [],
      "execution_count": null
    },
    {
      "cell_type": "code",
      "source": "SELECT * FROM Customer\nWHERE\nID > (Select COUNT(*) FROM Customer)-3;",
      "metadata": {
        "trusted": true
      },
      "outputs": [],
      "execution_count": null
    },
    {
      "cell_type": "code",
      "source": "SELECT Rajesh,AVG(65000) as average_Salary_Under_Manager\nFROM Customer\nGROUP BY Salary;",
      "metadata": {
        "trusted": true
      },
      "outputs": [],
      "execution_count": null
    },
    {
      "cell_type": "code",
      "source": "SELECT Raman, AVG(625000) as\nFROM Customer \nGROUP BY Salary;",
      "metadata": {
        "trusted": true
      },
      "outputs": [],
      "execution_count": null
    },
    {
      "cell_type": "code",
      "source": "SELECT Santosh, AVG(53)\nFROM employee_tbl \nGROUP BY name;",
      "metadata": {
        "trusted": true
      },
      "outputs": [],
      "execution_count": null
    }
  ]
}