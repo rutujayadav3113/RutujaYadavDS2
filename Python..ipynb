{
  "metadata": {
    "kernelspec": {
      "name": "python",
      "display_name": "Python (Pyodide)",
      "language": "python"
    },
    "language_info": {
      "codemirror_mode": {
        "name": "python",
        "version": 3
      },
      "file_extension": ".py",
      "mimetype": "text/x-python",
      "name": "python",
      "nbconvert_exporter": "python",
      "pygments_lexer": "ipython3",
      "version": "3.8"
    }
  },
  "nbformat_minor": 4,
  "nbformat": 4,
  "cells": [
    {
      "cell_type": "markdown",
      "source": "Python:\n\nTotal Marks: 40\nEach question 10 marks \n\n\nQuestion: 1\n\n\nYou have an input dictionary given,\n\ninput_dict = {\"abc\":{\"def\":{\"ghi\":{\"jkl\":{\"mno\":{\"pqr\":{\"stu\":{\"vwx\":{\"yz\":\"you are finally here !!!\"}}}}}}}}}\n\nTask:  You have to write a Python function that will take this input and print it like that,\n\noutput = {\"abc\":[\"def\",\"ghi\",\"jkl\",\"mno\",\"pqr\",\"stu\",\"vwx\",\"yz\"],\n \"def\":[\"ghi\",\"jkl\",\"mno\",\"pqr\",\"stu\",\"vwx\",\"yz\"],\n \"ghi\":[\"jkl\",\"mno\",\"pqr\",\"stu\",\"vwx\",\"yz\"],\n \"jkl\":[\"mno\",\"pqr\",\"stu\",\"vwx\",\"yz\"],\n \"mno\":[\"pqr\",\"stu\",\"vwx\",\"yz\"],\n \"pqr\":[\"stu\",\"vwx\",\"yz\"],\n \"stu\":[\"vwx\",\"yz\"],\n \"vwx\":[\"yz\"],\n \"yz\":[\"you are finally here !!!\"]}",
      "metadata": {}
    },
    {
      "cell_type": "code",
      "source": "from pprint import pprint\n\ninput_dict = {\"abc\":{\"def\":{\"ghi\":{\"jkl\":{\"mno\":{\"pqr\":{\"stu\":{\"vwx\":{\"yz\":\"you are finally here !!!\"}}}}}}}}}\ndef a_particular_style(data):\n    ret = {}\n    for k, v in data.items():\n        if isinstance(v, dict):\n            d = a_particular_style(v)\n            ret.update(d)\n            ret[k] = list(reversed(d))\n        else:\n            ret[k] = [v]\n    return ret\n\npprint(a_particular_style(input_dict))",
      "metadata": {
        "trusted": true
      },
      "outputs": [
        {
          "name": "stdout",
          "text": "{'abc': ['def', 'ghi', 'jkl', 'mno', 'pqr', 'stu', 'vwx', 'yz'],\n 'def': ['ghi', 'jkl', 'mno', 'pqr', 'stu', 'vwx', 'yz'],\n 'ghi': ['jkl', 'mno', 'pqr', 'stu', 'vwx', 'yz'],\n 'jkl': ['mno', 'pqr', 'stu', 'vwx', 'yz'],\n 'mno': ['pqr', 'stu', 'vwx', 'yz'],\n 'pqr': ['stu', 'vwx', 'yz'],\n 'stu': ['vwx', 'yz'],\n 'vwx': ['yz'],\n 'yz': ['you are finally here !!!']}\n",
          "output_type": "stream"
        }
      ],
      "execution_count": 1
    },
    {
      "cell_type": "markdown",
      "source": "Question: 2\n\n\nGiven an array of length ‘N’, where each element denotes the position of a stall. Now you have ‘N’ stalls and an integer ‘K’ which denotes the number of horses that are mad. To prevent the horses from hurting each other, you need to assign the horses to the stalls, such that the minimum distance between any two of them is as large as possible. Return the largest minimum distance.\n\narray: 1,2,4,8,9  &  k=3\n\nO/P: 3\n\nExplanation: 1st horse at stall 1, 2nd horse at stall 4 and 3rd horse at stall 8\n",
      "metadata": {}
    },
    {
      "cell_type": "code",
      "source": "# Python code to implement the approach\n\n# Function to check whether a distance is\n# keeping all the cows in the barn\n\ndef ok(v,x,c):\n\tn=len(v)\n\tcount=1\n\td=v[0]\n\tfor i in range(1,n):\n\t\tif(v[i]-d>=x):\n\t\t\td=v[i]\n\t\t\tcount=count+1\n\t\telse:\n\t\t\tcontinue\n\tif(count>=c):\n\t\treturn True\n\t\n\treturn False\n\t\n# Function to find the maximum possible\n# minimum distance between two cows\ndef aggressive_cows(v,n,k):\n\tans=-1\n\tmaxi=0\n\tfor i in range(n):\n\t\tmaxi=max(maxi,v[i])\n\t\n\t# Loop from 1 to max limit of the\n\t# barn length (here = 10^9)\n\t\n\tfor i in range(1,maxi+1):\n\t\tif(ok(v,i,k)):\n\t\t\tans=i\n\t\telse:\n\t\t\tbreak\n\t\n\treturn ans\n\t\n# Driver code\nK=3\narr=[1,2,4,8,9]\nN=len(arr)\n\n# Function call\nans=aggressive_cows(arr,N,K)\nprint(ans)",
      "metadata": {
        "trusted": true
      },
      "outputs": [
        {
          "name": "stdout",
          "text": "3\n",
          "output_type": "stream"
        }
      ],
      "execution_count": 1
    },
    {
      "cell_type": "code",
      "source": "Question: 3",
      "metadata": {
        "trusted": true
      },
      "outputs": [],
      "execution_count": null
    },
    {
      "cell_type": "code",
      "source": "n,m=map(int,input().split())\ns1='-'\ns='.|.'\nc=(m-3)//2\nfor i in range(0,n//2):\n    print(s1*c+s*(2*i+1)+s1*c)\n    c-=3\nprint(s1*((m-7)//2)+'WELCOME'+s1*((m-7)//2))\nc=3\nfor i in range((n//2)-1,-1,-1):\n    print(s1*c+s*(2*i+1)+s1*c)\n    c+=3",
      "metadata": {
        "trusted": true
      },
      "outputs": [],
      "execution_count": null
    },
    {
      "cell_type": "code",
      "source": "Question: 4\n\nGiven an array nums of n integers, return an array of all the unique quadruplets [nums[a], nums[b], nums[c], nums[d]] such that:\n\n   a) 0 <= a, b, c, d < n\n   b) a, b, c, and d are distinct.\n   c) nums[a] + nums[b] + nums[c] + nums[d] == target",
      "metadata": {
        "trusted": true
      },
      "outputs": [],
      "execution_count": null
    },
    {
      "cell_type": "code",
      "source": "",
      "metadata": {
        "trusted": true
      },
      "outputs": [],
      "execution_count": null
    }
  ]
}